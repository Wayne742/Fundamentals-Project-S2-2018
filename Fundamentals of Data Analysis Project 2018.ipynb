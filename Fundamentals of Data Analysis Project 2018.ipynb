{
 "cells": [
  {
   "cell_type": "markdown",
   "metadata": {},
   "source": [
    "# Fundamentals of Data Analysis Project 2018."
   ]
  },
  {
   "cell_type": "markdown",
   "metadata": {},
   "source": [
    "# An Investigation into Box Plots. "
   ]
  },
  {
   "cell_type": "markdown",
   "metadata": {},
   "source": [
    "## Introduction."
   ]
  },
  {
   "cell_type": "markdown",
   "metadata": {},
   "source": [
    "This notebook contains an investigation into Box Plots. The notebook contains four sections, firstly, a look at the History of the Box Plot. The second section deals with the use of Box Plots. Thirdly, I explain some of the terminology commonly associated with Box Plots. Lastly, I will look at some alternatives to the Box Plot, for example the Volin Plot.\n",
    "\n",
    "For this invetigation I will use two Python libraries."
   ]
  },
  {
   "cell_type": "markdown",
   "metadata": {},
   "source": [
    "### Libraries\n",
    "There are two Python libraries used throughout this note book.\n",
    "Numpy and Matplotlib.pyplpt."
   ]
  },
  {
   "cell_type": "code",
   "execution_count": 1,
   "metadata": {},
   "outputs": [],
   "source": [
    "# Importing libraries.\n",
    "import numpy as np # Import the Numpy library as 'np'.\n",
    "import matplotlib.pyplot as plt # Import the matplotlib.pyplot library as 'plt'."
   ]
  },
  {
   "cell_type": "markdown",
   "metadata": {},
   "source": [
    "# 1. History of the box plot."
   ]
  },
  {
   "cell_type": "markdown",
   "metadata": {},
   "source": [
    "### 1.1 History of the box plot.\n",
    "\n",
    "John Wilder Tukey (16 June 1916 - 26 July 2000) was an American Mathematician credited with the development of the Box Plot, sometimes referred to as the Tukey Box Plot. Educated at Brown University, he obtained an M.Sc in Chemistry in 1937 and went on to receive a Ph.D in Mathematics from Princeton University. \n",
    "\n",
    "After World War 2 he divided his time between Princeton University and working at At&T Bell Labratories. He became a full professor at 35 and a founding member of the Princeton statistics department. Durning his time at AT&T Bell Labratorie he invented the term 'bit'. He introduced the Box Plot in his 1977 book \"Explatory Data Analysis\" (Wikipedia,2018).\n",
    "\n",
    "Tukey was awarded Fellowship of the Royal Society for his 'substantial contribution to the improvement of natural knowledge, including mathematics, engineering science and medical science' (Wikipedia,2018). "
   ]
  },
  {
   "cell_type": "markdown",
   "metadata": {},
   "source": [
    "### 1.2 What is a box plot."
   ]
  },
  {
   "cell_type": "markdown",
   "metadata": {},
   "source": [
    "A box plot, sometimes referred to as a Box and Whiskers plot, is a method of graphically depicting groups of numerical data through their quartiles. It is a way of displaying the distribution of data based on a Five Number summary: Minimum, First Quartile, Median, Third Quartile and Maximum (physics.csbsju.edu,2018).\n",
    "\n",
    "The image below, labled Basic Plot, is a box plot. I refered to the matplotlib documentation on box plots (matplotlib,2018)"
   ]
  },
  {
   "cell_type": "markdown",
   "metadata": {},
   "source": [
    "In the code cell Random Data 1 I have used a randomly generated uniform distribution to generate random data to use in the plot. I used the random.uniform function from the Numpy library.\n",
    "\n",
    "I have asked the function to give me 1,000 numbers. This is the last of the three numbers inside the brackets. The 1,000 number are to be between 0 and upto but not including 10. These are the first two numbers inside the brackets.\n",
    "\n",
    "The spacings between the different parts of the box indicate the degree of dispersion and skewness of the values (wikipedia, 2018). "
   ]
  },
  {
   "cell_type": "code",
   "execution_count": 17,
   "metadata": {},
   "outputs": [],
   "source": [
    "# Random Data 1. \n",
    "# Generating random data for use in the example Box Plot 1. Using random.uniform function.\n",
    "s = np.random.uniform(10,0,1000) # Random data assigned to the variable \"s\"."
   ]
  },
  {
   "cell_type": "code",
   "execution_count": 3,
   "metadata": {},
   "outputs": [
    {
     "data": {
      "image/png": "[encoded data removed]",
      "text/plain": [
       "<Figure size 432x288 with 1 Axes>"
      ]
     },
     "metadata": {
      "needs_background": "light"
     },
     "output_type": "display_data"
    }
   ],
   "source": [
    "# Box Plot 1.\n",
    "# Generating a Box Plot. Using the random data generated in Random Data 1.\n",
    "plt.boxplot(s) # Code to generate box plot of the data in the variable 's'.\n",
    "plt.title('Basic Plot') # Sets the title for the plot. Displayed at the top of the plot. \n",
    "plt.show() # Using the 'show' command to display the plot."
   ]
  },
  {
   "cell_type": "markdown",
   "metadata": {},
   "source": [
    "In addition to the Five Number summary Box Plots are sometimes altered to provide further insight into the data set. For example the 9th and the 91st percentile and / or the 2nd and the 98th percentile are shown on the plot (wikipedia,2018).\n",
    "Box Plot 2 below shows a plot of a Poisson Distribution with the Whiskers at the 2nd and 98th Percentile."
   ]
  },
  {
   "cell_type": "code",
   "execution_count": 16,
   "metadata": {},
   "outputs": [],
   "source": [
    "# Random Data 2. \n",
    "# Generating random data for use in the example Box Plot 1. Using random.poisson function.\n",
    "m = np.random.poisson(5,10000) # Random data assigned to the variable \"m\"."
   ]
  },
  {
   "cell_type": "code",
   "execution_count": 35,
   "metadata": {},
   "outputs": [
    {
     "data": {
      "image/png": "[encoded data removed]",
      "text/plain": [
       "<Figure size 432x288 with 1 Axes>"
      ]
     },
     "metadata": {
      "needs_background": "light"
     },
     "output_type": "display_data"
    }
   ],
   "source": [
    "# Box Plot 2.\n",
    "# Create a Box Plot using random data generated in Random Data 2. Poisson Distribution.\n",
    "# The Whiskers are set at the 2nd and 98th Percentiles.\n",
    "plt.boxplot(m, whis=[2,98]) # Code to generate box plot of the data in the variable 'm'.\n",
    "plt.title('Plot with 2nd and 98th Percentile') # Sets the title for the plot. Displayed at the top of the plot. \n",
    "plt.show() # Using the 'show' command to display the plot."
   ]
  },
  {
   "cell_type": "markdown",
   "metadata": {},
   "source": [
    "Box Plots can be drawn either Vertically, as in shown above or Horizontally. The plot below labled \"Horixontal Plot\" is an example of this.\n",
    "\n",
    "Adding \"vert=False\" to the thrid line of code in Box Plot 2 below, changes the oreintation of the plot."
   ]
  },
  {
   "cell_type": "code",
   "execution_count": 4,
   "metadata": {},
   "outputs": [
    {
     "data": {
      "image/png": "[encoded data removed]",
      "text/plain": [
       "<Figure size 432x288 with 1 Axes>"
      ]
     },
     "metadata": {
      "needs_background": "light"
     },
     "output_type": "display_data"
    }
   ],
   "source": [
    "# Box Plot 2. A Horizontal Box Plot.\n",
    "plt.boxplot(s, vert=False) # Code to generate box plot. Using vert=False to change the orientation.\n",
    "plt.title('Horizontal Plot') # Sets the title for the plot. Displayed at the top of the plot. \n",
    "plt.show() # Using the 'show' command to display the plot."
   ]
  },
  {
   "cell_type": "code",
   "execution_count": 5,
   "metadata": {},
   "outputs": [
    {
     "data": {
      "image/png": "[encoded data removed]",
      "text/plain": [
       "<Figure size 432x288 with 1 Axes>"
      ]
     },
     "metadata": {
      "needs_background": "light"
     },
     "output_type": "display_data"
    }
   ],
   "source": [
    "hf = np.random.normal(13,10,15)\n",
    "lf = np.random.normal(-5,0,15)\n",
    "s2 = np.concatenate((s,hf))\n",
    "plt.boxplot(s2, notch=True, showfliers=True)\n",
    "plt.title('Plot')\n",
    "plt.show()"
   ]
  },
  {
   "cell_type": "code",
   "execution_count": 6,
   "metadata": {},
   "outputs": [
    {
     "data": {
      "text/plain": [
       "array([15.41800782, 17.29194411, 14.38927033,  0.11187766, 19.00243735,\n",
       "        9.62318103, 23.4966497 , -5.5746456 , -7.75718411,  8.22243752,\n",
       "       13.08568641,  2.39514536, -1.84156862,  5.91395399, 15.62195359])"
      ]
     },
     "execution_count": 6,
     "metadata": {},
     "output_type": "execute_result"
    }
   ],
   "source": [
    "hf"
   ]
  },
  {
   "cell_type": "code",
   "execution_count": 7,
   "metadata": {},
   "outputs": [
    {
     "data": {
      "text/plain": [
       "array([-5., -5., -5., -5., -5., -5., -5., -5., -5., -5., -5., -5., -5.,\n",
       "       -5., -5.])"
      ]
     },
     "execution_count": 7,
     "metadata": {},
     "output_type": "execute_result"
    }
   ],
   "source": [
    "lf"
   ]
  },
  {
   "cell_type": "code",
   "execution_count": 8,
   "metadata": {},
   "outputs": [
    {
     "data": {
      "image/png": "[encoded data removed]",
      "text/plain": [
       "<Figure size 432x288 with 1 Axes>"
      ]
     },
     "metadata": {
      "needs_background": "light"
     },
     "output_type": "display_data"
    }
   ],
   "source": [
    "plt.boxplot(s, notch=True)\n",
    "plt.title('Plot')\n",
    "plt.show()"
   ]
  },
  {
   "cell_type": "markdown",
   "metadata": {},
   "source": [
    "### 1.4 How to draw a box plot. ????"
   ]
  },
  {
   "cell_type": "code",
   "execution_count": 11,
   "metadata": {},
   "outputs": [
    {
     "data": {
      "image/png": "[encoded data removed]",
      "text/plain": [
       "<Figure size 432x288 with 1 Axes>"
      ]
     },
     "metadata": {
      "needs_background": "light"
     },
     "output_type": "display_data"
    }
   ],
   "source": [
    "fig2, ax2 = plt.subplots()\n",
    "ax2.set_title('Notched boxes')\n",
    "ax2.boxplot(data, notch=True)\n",
    "plt.show()"
   ]
  },
  {
   "cell_type": "code",
   "execution_count": 12,
   "metadata": {},
   "outputs": [],
   "source": [
    "# Generate some random data to use in the plot.\n",
    "np.random.seed(1988)\n",
    "all_data = [np.random.normal(1, std, size=10) for std in range(1, 2)]"
   ]
  },
  {
   "cell_type": "code",
   "execution_count": 13,
   "metadata": {},
   "outputs": [
    {
     "data": {
      "text/plain": [
       "[array([-0.32770768,  0.43806093,  1.51931962,  0.23800659,  1.60338273,\n",
       "        -0.3739005 ,  2.29287255,  0.55542147,  0.78299699, -0.26445923])]"
      ]
     },
     "execution_count": 13,
     "metadata": {},
     "output_type": "execute_result"
    }
   ],
   "source": [
    "all_data"
   ]
  },
  {
   "cell_type": "code",
   "execution_count": 14,
   "metadata": {
    "scrolled": false
   },
   "outputs": [
    {
     "data": {
      "image/png": "[encoded data removed]",
      "text/plain": [
       "<Figure size 432x288 with 1 Axes>"
      ]
     },
     "metadata": {
      "needs_background": "light"
     },
     "output_type": "display_data"
    }
   ],
   "source": [
    "fig1, ax1 = plt.subplots()\n",
    "ax1.set_title('Basic Plot')\n",
    "ax1.boxplot(all_data)\n",
    "plt.show()"
   ]
  },
  {
   "cell_type": "code",
   "execution_count": 15,
   "metadata": {},
   "outputs": [
    {
     "data": {
      "image/png": "[encoded data removed]",
      "text/plain": [
       "<Figure size 648x288 with 2 Axes>"
      ]
     },
     "metadata": {
      "needs_background": "light"
     },
     "output_type": "display_data"
    }
   ],
   "source": [
    "# Random test data\n",
    "np.random.seed(19680801)\n",
    "all_data = [np.random.normal(0, std, size=100) for std in range(1, 4)]\n",
    "labels = ['x1', 'x2', 'x3']\n",
    "\n",
    "fig, axes = plt.subplots(nrows=1, ncols=2, figsize=(9, 4))\n",
    "\n",
    "# rectangular box plot\n",
    "bplot1 = axes[0].boxplot(all_data,\n",
    "                         vert=True,  # vertical box alignment\n",
    "                         patch_artist=True,  # fill with color\n",
    "                         labels=labels)  # will be used to label x-ticks\n",
    "axes[0].set_title('Rectangular box plot')\n",
    "\n",
    "# notch shape box plot\n",
    "bplot2 = axes[1].boxplot(all_data,\n",
    "                         notch=True,  # notch shape\n",
    "                         vert=True,  # vertical box alignment\n",
    "                         patch_artist=True,  # fill with color\n",
    "                         labels=labels)  # will be used to label x-ticks\n",
    "axes[1].set_title('Notched box plot')\n",
    "\n",
    "# fill with colors\n",
    "colors = ['pink', 'lightblue', 'lightgreen']\n",
    "for bplot in (bplot1, bplot2):\n",
    "    for patch, color in zip(bplot['boxes'], colors):\n",
    "        patch.set_facecolor(color)\n",
    "\n",
    "# adding horizontal grid lines\n",
    "for ax in axes:\n",
    "    ax.yaxis.grid(True)\n",
    "    ax.set_xlabel('Three separate samples')\n",
    "    ax.set_ylabel('Observed values')\n",
    "\n",
    "plt.show()"
   ]
  },
  {
   "cell_type": "markdown",
   "metadata": {},
   "source": [
    "# 2. Use of the box plot."
   ]
  },
  {
   "cell_type": "markdown",
   "metadata": {},
   "source": [
    "### 2.1 Why use a Box Plot"
   ]
  },
  {
   "cell_type": "markdown",
   "metadata": {},
   "source": [
    "Box Plots are used to graphically display the distribution of a dataset. They are useful for identifying outliers and comparing the distributions of several datasets."
   ]
  },
  {
   "cell_type": "markdown",
   "metadata": {},
   "source": [
    "# 3. Explaination of relevant terminology.\n",
    "\n",
    "There are several terms associated with Box Plots. Below I have explained the more common terms. \n",
    "All taken from https://www.wellbeingatschool.org.nz/information-sheet/understanding-and-interpreting-box-plots\n"
   ]
  },
  {
   "cell_type": "markdown",
   "metadata": {},
   "source": [
    "#### The Median.\n",
    "The median represents the mid point in the data. Half the values in the data set are equal to or above this point and half the values are below it (wellbeing.org, 2018)."
   ]
  },
  {
   "cell_type": "markdown",
   "metadata": {},
   "source": [
    "#### Two HInges. \n",
    "The hinges on a box plot are measures of position and are created when you split the data into four pieces. The Upper Hinge is equivalent to the third quartile. The Lower Hinge is equal to the first quartile. The hinges make up the box on the Box Plot. The median is sometimes referred to as the midhinge (statisticshowto.datasciencecentral.com, 2018).\n",
    "\n",
    "The Inter-Quartile Range is sometimes referred to as the H-Spread."
   ]
  },
  {
   "cell_type": "markdown",
   "metadata": {},
   "source": [
    "### Fences.\n",
    "The Upper and Lower Fences cordon off the Outliers from the rest of the data. The Upper Fences are either side of the Outliers on the upper section of the plot. The Lower Fences are at either side of the lower outliers (statistichowto.datasciencecentral.com, 2018)."
   ]
  },
  {
   "cell_type": "markdown",
   "metadata": {},
   "source": [
    "#### Calculating the Fences\n",
    "\n",
    "The two Upper Fences, Inner and Outer, are calculated with the following formulea;\n",
    "\n",
    "Upper Inner Fence = Q3 + (1.5 * IQR)\n",
    "\n",
    "Upper Outer Fence = Q1 + (3 * IQR)\n",
    "\n",
    "Where:\n",
    "Q1 is the First Quartile. \n",
    "Q3 is the Thrid Quartile.\n",
    "IQR is the Inter-Quartile Range. (statistichowto.datasciencecentral.com, 2018)"
   ]
  },
  {
   "cell_type": "markdown",
   "metadata": {},
   "source": [
    "#### Whiskers."
   ]
  },
  {
   "cell_type": "markdown",
   "metadata": {},
   "source": [
    "#### Outliers."
   ]
  },
  {
   "cell_type": "markdown",
   "metadata": {},
   "source": [
    "#### Inter-Quartile Range.\n",
    "The central rectangle, or the box that gives the Box Plot its name, spans the first quartile to the third quartile. This is known as the Inter-Quartile Range or IQR (physics.csbsju.edu, 2018)."
   ]
  },
  {
   "cell_type": "code",
   "execution_count": 86,
   "metadata": {},
   "outputs": [],
   "source": [
    "# Taken from the Numpy Website.\n",
    "# Fixing random state for reproducibility.\n",
    "np.random.seed(1968)\n",
    "\n",
    "# fake up some data. \n",
    "spread = np.random.rand(50) * 100 # 50 Random samples from a uniform distribution X 100.\n",
    "center = np.ones(25) * 50 # Generate an arrary of ones (1's) X 50.  Gives us the centre values.\n",
    "flier_high = np.random.rand(10) * 100 + 100 # Generates values for Upper Outliers.\n",
    "flier_low = np.random.rand(10) * -100 # Generates values for Lower Outliers.\n",
    "data = np.concatenate((spread, center, flier_high, flier_low)) # Assign all the variable above to the variable 'data'"
   ]
  },
  {
   "cell_type": "code",
   "execution_count": 87,
   "metadata": {
    "scrolled": true
   },
   "outputs": [
    {
     "data": {
      "image/png": "[encoded data removed]",
      "text/plain": [
       "<Figure size 432x288 with 1 Axes>"
      ]
     },
     "metadata": {
      "needs_background": "light"
     },
     "output_type": "display_data"
    }
   ],
   "source": [
    "# Labeled Box Plot. \n",
    "plt.title('Labeled Plot')\n",
    "plt.boxplot(data)\n",
    "plt.annotate('Median', xy=(1, 50), xytext=(1.2, 60), # Use the Annotate command to add \"in figure\" text. Median.\n",
    "            arrowprops=dict(facecolor='red', shrink=0.05)) # Arrow code, colour set to red. Shrink changes arrow length.\n",
    "plt.annotate('Outliers', xy=(1, 175), xytext=(1.2, 150), # Use the Annotate command to add \"in figure\" text. Median.\n",
    "            arrowprops=dict(facecolor='green', shrink=0.05)) # Arrow code, colour set to green. Shrink changes arrow length.\n",
    "plt.annotate('Whiskers', xy=(1, 90), xytext=(1.35, 90), # Use the Annotate command to add \"in figure\" text. Median.\n",
    "            arrowprops=dict(facecolor='red', shrink=0.05)) # Arrow code, colour set to red. Shrink changes arrow length.\n",
    "plt.text(.90, 40, 'IQR', style='italic', # Add a text box to the figure. \n",
    "        bbox={'facecolor':'red', 'alpha':0.25, 'pad':10}) # Colour set to red. 'alpha'changes transparency. 'pad' changes size. \n",
    "plt.annotate('Upper Hinge', xy=(1, 55), xytext=(.55, 90), # Use the Annotate command to add \"in figure\" text. Median.\n",
    "            arrowprops=dict(facecolor='red', shrink=0.05)) # Arrow code, colour set to red. Shrink changes arrow length.\n",
    "plt.annotate('Lower Hinge', xy=(1, 40), xytext=(.55, 0), # Use the Annotate command to add \"in figure\" text. Median.\n",
    "            arrowprops=dict(facecolor='red', shrink=0.05)) # Arrow code, colour set to red. Shrink changes arrow length.\n",
    "plt.annotate('Lower Inner Fence', xy=(1, -47), xytext=(1.2, 0), # Use the Annotate command to add \"in figure\" text. Median.\n",
    "            arrowprops=dict(facecolor='yellow', shrink=0.05)) # Arrow code, colour set to yellow. Shrink changes arrow length.\n",
    "plt.annotate('Lower Outer Fence', xy=(1, -98), xytext=(1.2, -60), # Use the Annotate command to add \"in figure\" text. Median.\n",
    "            arrowprops=dict(facecolor='yellow', shrink=0.05)) # Arrow code, colour set to yellow. Shrink changes arrow length.\n",
    "plt.show()"
   ]
  },
  {
   "cell_type": "code",
   "execution_count": null,
   "metadata": {},
   "outputs": [],
   "source": []
  },
  {
   "cell_type": "markdown",
   "metadata": {},
   "source": [
    "# 4. Comparison to alternatives."
   ]
  },
  {
   "cell_type": "markdown",
   "metadata": {},
   "source": [
    "What other charts show distributions."
   ]
  },
  {
   "cell_type": "markdown",
   "metadata": {},
   "source": [
    "BP doesn't tell you any thing about the values involved, it shows how the values in the data set are distributed."
   ]
  },
  {
   "cell_type": "markdown",
   "metadata": {},
   "source": [
    "any draw backs of using a boxplot?"
   ]
  },
  {
   "cell_type": "markdown",
   "metadata": {},
   "source": [
    "# References.\n",
    "\n",
    "\n",
    "wikipedia.org 2018, John Tukey, Accessed on December 2nd 2018, https://en.wikipedia.org/wiki/John_Tukey\n",
    "\n",
    "wikipedia.org 2018, Fellowship of the Royal Society, Accessed on December 2nd 2018, https://en.wikipedia.org/wiki/Fellow_of_the_Royal_Society\n",
    "\n",
    "physics.csbsju.edu 2018, Box Plot: Display of Distribution, Accesed on December 4th 2018, http://www.physics.csbsju.edu/stats/box2.html\n",
    "\n",
    "onlinestatbook.com 2018, Box Plots, Accessed on the 13th December 2018,http://onlinestatbook.com/2/graphing_distributions/boxplots.html\n",
    "\n",
    "matplotlib.org 2018, matplotlib.pyplot.boxplot, Accessed on December 4th 2018, https://matplotlib.org/api/_as_gen/matplotlib.pyplot.boxplot.html\n",
    "\n",
    "statisticshowto.datascience.com, Upper and Lower Fences, Accessed on 13th December 2018,\n",
    "https://www.statisticshowto.datasciencecentral.com/upper-and-lower-fences/\n",
    "\n",
    "statisticshowto.datascience.com, Upper and Lower Hinge, Accessed on 13th December 2018, https://www.statisticshowto.datasciencecentral.com/upper-hinge-lower-hinge/\n",
    "\n",
    "matplotlib.org 2018, Text Support, Accessed on 13th December 2018, https://matplotlib.org/users/text_intro.html\n",
    "\n",
    "https://www.wellbeingatschool.org.nz/information-sheet/understanding-and-interpreting-box-plots\n",
    "\n",
    "https://en.wikipedia.org/wiki/Box_plot\n",
    "\n",
    "http://vita.had.co.nz/papers/boxplots.pdf\n"
   ]
  },
  {
   "cell_type": "markdown",
   "metadata": {},
   "source": [
    "# END"
   ]
  }
 ],
 "metadata": {
  "kernelspec": {
   "display_name": "Python 3",
   "language": "python",
   "name": "python3"
  },
  "language_info": {
   "codemirror_mode": {
    "name": "ipython",
    "version": 3
   },
   "file_extension": ".py",
   "mimetype": "text/x-python",
   "name": "python",
   "nbconvert_exporter": "python",
   "pygments_lexer": "ipython3",
   "version": "3.7.0"
  }
 },
 "nbformat": 4,
 "nbformat_minor": 2
}
